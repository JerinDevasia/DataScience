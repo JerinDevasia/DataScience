{
 "cells": [
  {
   "cell_type": "code",
   "execution_count": 1,
   "id": "90725f8f",
   "metadata": {},
   "outputs": [],
   "source": [
    "import numpy as np"
   ]
  },
  {
   "cell_type": "code",
   "execution_count": 2,
   "id": "9263f7c4",
   "metadata": {},
   "outputs": [],
   "source": [
    "a=np.arange(16).reshape(4,4)"
   ]
  },
  {
   "cell_type": "code",
   "execution_count": 4,
   "id": "3197e9dd",
   "metadata": {},
   "outputs": [],
   "source": [
    "b=np.copy(a)"
   ]
  },
  {
   "cell_type": "code",
   "execution_count": 5,
   "id": "7511e70d",
   "metadata": {},
   "outputs": [],
   "source": [
    "b[[0,-1]]=b[[-1,0]]"
   ]
  },
  {
   "cell_type": "code",
   "execution_count": 6,
   "id": "24d3a28c",
   "metadata": {},
   "outputs": [
    {
     "name": "stdout",
     "output_type": "stream",
     "text": [
      "Original array\n",
      "\n",
      " [[ 0  1  2  3]\n",
      " [ 4  5  6  7]\n",
      " [ 8  9 10 11]\n",
      " [12 13 14 15]]\n"
     ]
    }
   ],
   "source": [
    "print(f\"Original array\\n\\n {a}\")"
   ]
  },
  {
   "cell_type": "code",
   "execution_count": 7,
   "id": "5a9d5a11",
   "metadata": {},
   "outputs": [
    {
     "name": "stdout",
     "output_type": "stream",
     "text": [
      "Swapped array\n",
      "\n",
      " [[12 13 14 15]\n",
      " [ 4  5  6  7]\n",
      " [ 8  9 10 11]\n",
      " [ 0  1  2  3]]\n"
     ]
    }
   ],
   "source": [
    "print(f\"Swapped array\\n\\n {b}\")"
   ]
  },
  {
   "cell_type": "code",
   "execution_count": null,
   "id": "946f3bac",
   "metadata": {},
   "outputs": [],
   "source": []
  }
 ],
 "metadata": {
  "kernelspec": {
   "display_name": "Python 3 (ipykernel)",
   "language": "python",
   "name": "python3"
  },
  "language_info": {
   "codemirror_mode": {
    "name": "ipython",
    "version": 3
   },
   "file_extension": ".py",
   "mimetype": "text/x-python",
   "name": "python",
   "nbconvert_exporter": "python",
   "pygments_lexer": "ipython3",
   "version": "3.11.4"
  }
 },
 "nbformat": 4,
 "nbformat_minor": 5
}
