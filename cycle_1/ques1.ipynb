{
 "cells": [
  {
   "cell_type": "code",
   "execution_count": 1,
   "id": "5299da3d",
   "metadata": {},
   "outputs": [],
   "source": [
    "import numpy as np"
   ]
  },
  {
   "cell_type": "code",
   "execution_count": 2,
   "id": "bcf8d620",
   "metadata": {},
   "outputs": [],
   "source": [
    "x=np.array([72,79,85,90,150,-135,120,-10,60,100])"
   ]
  },
  {
   "cell_type": "code",
   "execution_count": 3,
   "id": "58625fc0",
   "metadata": {},
   "outputs": [],
   "source": [
    "y=np.array([72,79,85,90,150,-135,120,-10,60,100.001])"
   ]
  },
  {
   "cell_type": "code",
   "execution_count": 4,
   "id": "6cc982c9",
   "metadata": {},
   "outputs": [
    {
     "name": "stdout",
     "output_type": "stream",
     "text": [
      "[  72   79   85   90  150 -135  120  -10   60  100]\n"
     ]
    }
   ],
   "source": [
    "print(x)"
   ]
  },
  {
   "cell_type": "code",
   "execution_count": 5,
   "id": "b4464fb0",
   "metadata": {},
   "outputs": [
    {
     "name": "stdout",
     "output_type": "stream",
     "text": [
      "[  72.      79.      85.      90.     150.    -135.     120.     -10.\n",
      "   60.     100.001]\n"
     ]
    }
   ],
   "source": [
    "print(y)"
   ]
  },
  {
   "cell_type": "code",
   "execution_count": 6,
   "id": "f68e9c34",
   "metadata": {},
   "outputs": [
    {
     "name": "stdout",
     "output_type": "stream",
     "text": [
      "Comparison : [ True  True  True  True  True  True  True  True  True False]\n"
     ]
    }
   ],
   "source": [
    "print(f\"Comparison : {np.equal(x,y)}\")"
   ]
  },
  {
   "cell_type": "code",
   "execution_count": 7,
   "id": "d32f2a99",
   "metadata": {},
   "outputs": [
    {
     "name": "stdout",
     "output_type": "stream",
     "text": [
      "Comparison with tolerance : True\n"
     ]
    }
   ],
   "source": [
    "print(f\"Comparison with tolerance : {np.allclose(x,y)}\")"
   ]
  },
  {
   "cell_type": "code",
   "execution_count": 8,
   "id": "89e07843",
   "metadata": {},
   "outputs": [
    {
     "name": "stdout",
     "output_type": "stream",
     "text": [
      "Greater : [False False False False False False False False False False]\n"
     ]
    }
   ],
   "source": [
    "print(f\"Greater : {np.greater(x,y)}\")"
   ]
  },
  {
   "cell_type": "code",
   "execution_count": 9,
   "id": "446a1c2a",
   "metadata": {},
   "outputs": [
    {
     "name": "stdout",
     "output_type": "stream",
     "text": [
      "Greater equals : [ True  True  True  True  True  True  True  True  True False]\n"
     ]
    }
   ],
   "source": [
    "print(f\"Greater equals : {np.greater_equal(x,y)}\")"
   ]
  },
  {
   "cell_type": "code",
   "execution_count": 10,
   "id": "dad5b614",
   "metadata": {},
   "outputs": [
    {
     "name": "stdout",
     "output_type": "stream",
     "text": [
      "Smaller : [False False False False False False False False False  True]\n"
     ]
    }
   ],
   "source": [
    "print(f\"Smaller : {np.less(x,y)}\")"
   ]
  },
  {
   "cell_type": "code",
   "execution_count": 12,
   "id": "0ae76d2f",
   "metadata": {},
   "outputs": [
    {
     "name": "stdout",
     "output_type": "stream",
     "text": [
      "Smaller equal : [ True  True  True  True  True  True  True  True  True  True]\n"
     ]
    }
   ],
   "source": [
    "print(f\"Smaller equal : {np.less_equal(x,y)}\")"
   ]
  },
  {
   "cell_type": "code",
   "execution_count": null,
   "id": "86bc28e2",
   "metadata": {},
   "outputs": [],
   "source": []
  }
 ],
 "metadata": {
  "kernelspec": {
   "display_name": "Python 3 (ipykernel)",
   "language": "python",
   "name": "python3"
  },
  "language_info": {
   "codemirror_mode": {
    "name": "ipython",
    "version": 3
   },
   "file_extension": ".py",
   "mimetype": "text/x-python",
   "name": "python",
   "nbconvert_exporter": "python",
   "pygments_lexer": "ipython3",
   "version": "3.11.4"
  }
 },
 "nbformat": 4,
 "nbformat_minor": 5
}
