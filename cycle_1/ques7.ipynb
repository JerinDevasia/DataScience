{
 "cells": [
  {
   "cell_type": "code",
   "execution_count": 1,
   "id": "b0a78d8c",
   "metadata": {},
   "outputs": [],
   "source": [
    "import numpy as np"
   ]
  },
  {
   "cell_type": "code",
   "execution_count": 2,
   "id": "f746398e",
   "metadata": {},
   "outputs": [],
   "source": [
    "a=np.arange(1,11,1)"
   ]
  },
  {
   "cell_type": "code",
   "execution_count": 3,
   "id": "a9e70a12",
   "metadata": {},
   "outputs": [
    {
     "name": "stdout",
     "output_type": "stream",
     "text": [
      "[ 1  2  3  4  5  6  7  8  9 10]\n"
     ]
    }
   ],
   "source": [
    "print(a)"
   ]
  },
  {
   "cell_type": "code",
   "execution_count": 4,
   "id": "94de2eee",
   "metadata": {},
   "outputs": [],
   "source": [
    "file=\"file.txt\""
   ]
  },
  {
   "cell_type": "code",
   "execution_count": 5,
   "id": "842433b3",
   "metadata": {},
   "outputs": [],
   "source": [
    "np.savetxt(file,a)"
   ]
  },
  {
   "cell_type": "code",
   "execution_count": 6,
   "id": "43bcc287",
   "metadata": {},
   "outputs": [
    {
     "name": "stdout",
     "output_type": "stream",
     "text": [
      "Saved data in file.txt\n"
     ]
    }
   ],
   "source": [
    "print(f\"Saved data in {file}\")"
   ]
  },
  {
   "cell_type": "code",
   "execution_count": null,
   "id": "fe617a2f",
   "metadata": {},
   "outputs": [],
   "source": []
  }
 ],
 "metadata": {
  "kernelspec": {
   "display_name": "Python 3 (ipykernel)",
   "language": "python",
   "name": "python3"
  },
  "language_info": {
   "codemirror_mode": {
    "name": "ipython",
    "version": 3
   },
   "file_extension": ".py",
   "mimetype": "text/x-python",
   "name": "python",
   "nbconvert_exporter": "python",
   "pygments_lexer": "ipython3",
   "version": "3.11.4"
  }
 },
 "nbformat": 4,
 "nbformat_minor": 5
}
