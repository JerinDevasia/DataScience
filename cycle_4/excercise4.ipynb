{
 "cells": [
  {
   "cell_type": "code",
   "execution_count": 1,
   "id": "abc87bc2",
   "metadata": {},
   "outputs": [],
   "source": [
    "import pandas as pd"
   ]
  },
  {
   "cell_type": "code",
   "execution_count": 2,
   "id": "6cfc05ca",
   "metadata": {},
   "outputs": [],
   "source": [
    "my_list = [\"Toyota\", \"Mercedes\", \"Ford\", \"Jeep\", \"Honda\"]"
   ]
  },
  {
   "cell_type": "code",
   "execution_count": 3,
   "id": "702db3cb",
   "metadata": {},
   "outputs": [],
   "source": [
    "series = pd.Series(my_list)"
   ]
  },
  {
   "cell_type": "code",
   "execution_count": 4,
   "id": "6f2c798e",
   "metadata": {},
   "outputs": [
    {
     "name": "stdout",
     "output_type": "stream",
     "text": [
      "0      Toyota\n",
      "1    Mercedes\n",
      "2        Ford\n",
      "3        Jeep\n",
      "4       Honda\n",
      "dtype: object\n"
     ]
    }
   ],
   "source": [
    "print(series)"
   ]
  },
  {
   "cell_type": "code",
   "execution_count": 5,
   "id": "704871bb",
   "metadata": {},
   "outputs": [],
   "source": [
    "from datetime import datetime,timedelta"
   ]
  },
  {
   "cell_type": "code",
   "execution_count": 6,
   "id": "0411f343",
   "metadata": {},
   "outputs": [],
   "source": [
    "start_date = datetime(2021, 5, 1)"
   ]
  },
  {
   "cell_type": "code",
   "execution_count": 7,
   "id": "ce9d87ec",
   "metadata": {},
   "outputs": [],
   "source": [
    "end_date = datetime(2021, 5, 12)"
   ]
  },
  {
   "cell_type": "code",
   "execution_count": 8,
   "id": "b2f789f2",
   "metadata": {},
   "outputs": [],
   "source": [
    "current_date = start_date"
   ]
  },
  {
   "cell_type": "code",
   "execution_count": 9,
   "id": "e0869ce6",
   "metadata": {},
   "outputs": [
    {
     "name": "stdout",
     "output_type": "stream",
     "text": [
      "05/01/21-00-2021\n",
      "05/02/21-00-2021\n",
      "05/03/21-00-2021\n",
      "05/04/21-00-2021\n",
      "05/05/21-00-2021\n",
      "05/06/21-00-2021\n",
      "05/07/21-00-2021\n",
      "05/08/21-00-2021\n",
      "05/09/21-00-2021\n",
      "05/10/21-00-2021\n",
      "05/11/21-00-2021\n",
      "05/12/21-00-2021\n"
     ]
    }
   ],
   "source": [
    "while current_date <= end_date:\n",
    "    print(current_date.strftime(\"%D-%M-%Y\"))\n",
    "    current_date += timedelta(days = 1)"
   ]
  },
  {
   "cell_type": "code",
   "execution_count": 12,
   "id": "043ab308",
   "metadata": {},
   "outputs": [
    {
     "name": "stdout",
     "output_type": "stream",
     "text": [
      "{'Name': ['Alice', 'Bob', 'Charlie'], 'Age': [25, 30, 35], 'City': ['New York', 'Los Angeles', 'Chicago']}\n"
     ]
    }
   ],
   "source": [
    "data = {'Name':['Alice', 'Bob', 'Charlie'],\n",
    "       'Age':[25,30,35],\n",
    "       'City':['New York', 'Los Angeles', 'Chicago']}\n",
    "\n",
    "df = pd.DataFrame(data)\n",
    "print(data)"
   ]
  },
  {
   "cell_type": "code",
   "execution_count": 13,
   "id": "69715859",
   "metadata": {},
   "outputs": [
    {
     "name": "stdout",
     "output_type": "stream",
     "text": [
      "      Name  Age         City\n",
      "0    Alice   25     New York\n",
      "1      Bob   30  Los Angeles\n",
      "2  Charlie   35      Chicago\n"
     ]
    }
   ],
   "source": [
    "data = [['Alice', 25, 'New York'],\n",
    "        ['Bob', 30, 'Los Angeles'],\n",
    "['Charlie', 35, 'Chicago']]\n",
    "        \n",
    "df = pd.DataFrame(data, columns = ['Name', 'Age', 'City'])\n",
    "print(df)"
   ]
  },
  {
   "cell_type": "code",
   "execution_count": 14,
   "id": "4aeebccc",
   "metadata": {},
   "outputs": [
    {
     "name": "stdout",
     "output_type": "stream",
     "text": [
      "      Name  Age         City\n",
      "0    Alice   25     New York\n",
      "1      Bob   30  Los Angeles\n",
      "2  Charlie   35      Chicago\n"
     ]
    }
   ],
   "source": [
    "data = {'Name':['Alice', 'Bob', 'Charlie'],\n",
    "       'Age' : [25,30,35],\n",
    "        'City' : ['New York', 'Los Angeles', 'Chicago']\n",
    "       }\n",
    "df = pd.DataFrame(data)\n",
    "\n",
    "sorted_df = df.sort_values(by=['Age', 'City'], ascending=[True,False])\n",
    "print(sorted_df)"
   ]
  },
  {
   "cell_type": "code",
   "execution_count": 15,
   "id": "8e06ec78",
   "metadata": {},
   "outputs": [
    {
     "name": "stdout",
     "output_type": "stream",
     "text": [
      "      Name  Age         City\n",
      "0    Alice   25     New York\n",
      "1      Bob   30  Los Angeles\n",
      "2  Charlie   35      Chicago\n"
     ]
    }
   ],
   "source": [
    "data = {'Name':['Alice', 'Bob', 'Charlie'],\n",
    "       'Age' : [25,30,35],\n",
    "        'City' : ['New York', 'Los Angeles', 'Chicago']\n",
    "       }\n",
    "custom_index = ['A','B','C']\n",
    "df = pd.DataFrame(data,index=custom_index)\n",
    "df_reset = df.reset_index(drop=True)\n",
    "print(df_reset)"
   ]
  },
  {
   "cell_type": "code",
   "execution_count": 16,
   "id": "0855fb17",
   "metadata": {},
   "outputs": [
    {
     "name": "stdout",
     "output_type": "stream",
     "text": [
      "    Name  Age         City\n",
      "0  Alice   25     New York\n",
      "1    Bob   30  Los Angeles\n"
     ]
    }
   ],
   "source": [
    "data = {'Name':['Alice', 'Bob', 'Charlie'],\n",
    "       'Age' : [25,30,35],\n",
    "        'City' : ['New York', 'Los Angeles', 'Chicago']\n",
    "       }\n",
    "df = pd.DataFrame(data)\n",
    "selected_rows = df.iloc[:2]\n",
    "print(selected_rows)"
   ]
  },
  {
   "cell_type": "code",
   "execution_count": 17,
   "id": "1f5fd680",
   "metadata": {},
   "outputs": [
    {
     "name": "stdout",
     "output_type": "stream",
     "text": [
      "Occupation\n",
      "Doctor      80000.0\n",
      "Engineer    60000.0\n",
      "Teacher     55000.0\n",
      "Name: Salary, dtype: float64\n"
     ]
    }
   ],
   "source": [
    "data = {'Name':['Alice', 'Bob', 'Charlie'],\n",
    "       'Salary' : [60000,80000,55000],\n",
    "        'Occupation' : ['Engineer', 'Doctor', 'Teacher']\n",
    "       }\n",
    "df = pd.DataFrame(data)\n",
    "average_salary = df.groupby('Occupation')['Salary'].mean()\n",
    "\n",
    "print(average_salary)"
   ]
  },
  {
   "cell_type": "code",
   "execution_count": 18,
   "id": "f1f67dc6",
   "metadata": {},
   "outputs": [
    {
     "name": "stdout",
     "output_type": "stream",
     "text": [
      "     A    B     C\n",
      "0  1.0  5.0   9.0\n",
      "1  2.0  0.0  10.0\n",
      "2  0.0  7.0  11.0\n",
      "3  4.0  8.0   0.0\n"
     ]
    }
   ],
   "source": [
    "import numpy as np\n",
    "data = {\n",
    "    'A' : [1,2,np.nan,4],\n",
    "    'B' : [5,np.nan,7,8],\n",
    "    'C' : [9,10,11,np.nan]\n",
    "}\n",
    "\n",
    "df = pd.DataFrame(data)\n",
    "df_filled = df.fillna(0)\n",
    "\n",
    "print(df_filled)"
   ]
  },
  {
   "cell_type": "code",
   "execution_count": 19,
   "id": "e525c592",
   "metadata": {},
   "outputs": [
    {
     "name": "stdout",
     "output_type": "stream",
     "text": [
      "       cname  profit\n",
      "0  Company A    True\n",
      "1  Company B   False\n",
      "2  Company C    True\n"
     ]
    }
   ],
   "source": [
    "data = {\n",
    "    'cname' : ['Company A', 'Company B', 'Company C'],\n",
    "    'profit' : [1000,-500,1200]\n",
    "}\n",
    "df = pd.DataFrame(data)\n",
    "\n",
    "def convert_to_boolean(value):\n",
    "    return value > 0\n",
    "\n",
    "df['profit'] = df['profit'].apply(convert_to_boolean)\n",
    "print(df)"
   ]
  },
  {
   "cell_type": "code",
   "execution_count": 20,
   "id": "24e669ba",
   "metadata": {},
   "outputs": [
    {
     "name": "stdout",
     "output_type": "stream",
     "text": [
      "   eid    ename  stipend  position\n",
      "0  101    Alice      500  Engineer\n",
      "1  102      Bob      600    Doctor\n",
      "2  103  Charlie      550       NaN\n",
      "3  104    David      700    Doctor\n"
     ]
    }
   ],
   "source": [
    "data1 = {\n",
    "    'eid' : [101,102,103,104],\n",
    "    'ename' : ['Alice','Bob','Charlie','David'],\n",
    "    'stipend' : [500,600,550,700]\n",
    "}\n",
    "\n",
    "data2 = {\n",
    "    'eid' : [101,102,104,105],\n",
    "    'designation' : ['Engineer', 'Doctor', 'Doctor', 'Teacher']\n",
    "}\n",
    "\n",
    "df1 = pd.DataFrame(data1)\n",
    "df2 = pd.DataFrame(data2)\n",
    "\n",
    "merged_df = pd.merge(df1,df2, on='eid', how='left')\n",
    "merged_df.rename(columns={'designation':'position'},inplace=True)\n",
    "print(merged_df)"
   ]
  },
  {
   "cell_type": "code",
   "execution_count": null,
   "id": "342d4b49",
   "metadata": {},
   "outputs": [],
   "source": []
  }
 ],
 "metadata": {
  "kernelspec": {
   "display_name": "Python 3 (ipykernel)",
   "language": "python",
   "name": "python3"
  },
  "language_info": {
   "codemirror_mode": {
    "name": "ipython",
    "version": 3
   },
   "file_extension": ".py",
   "mimetype": "text/x-python",
   "name": "python",
   "nbconvert_exporter": "python",
   "pygments_lexer": "ipython3",
   "version": "3.11.4"
  }
 },
 "nbformat": 4,
 "nbformat_minor": 5
}
